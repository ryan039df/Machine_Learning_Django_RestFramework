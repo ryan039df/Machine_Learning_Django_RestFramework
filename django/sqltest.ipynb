{
 "cells": [
  {
   "cell_type": "code",
   "execution_count": 1,
   "metadata": {},
   "outputs": [],
   "source": [
    "import paho.mqtt.client as mqtt\n",
    "import sqlite3"
   ]
  },
  {
   "cell_type": "code",
   "execution_count": 44,
   "metadata": {},
   "outputs": [
    {
     "name": "stdout",
     "output_type": "stream",
     "text": [
      "['32']\n",
      "['32', '23']\n",
      "['32', '23', '1245']\n",
      "['35']\n",
      "['35', '20']\n",
      "['35', '20', '1092']\n",
      "['117']\n",
      "['117', '59']\n",
      "['117', '59', '1290']\n"
     ]
    }
   ],
   "source": [
    "sensors = []\n",
    "temp = []\n",
    "data_base = \"db.sqlite3\"\n",
    "\n",
    "# Connect to database\n",
    "conn = sqlite3.connect(data_base)\n",
    "c = conn.cursor()\n",
    "\n",
    "test = [\"uts_sensor\", \"uts_sensor2\", \"uts_sensor3\"]\n",
    "\n",
    "for t in test:\n",
    "    for i in range(3):\n",
    "        query = f'Select * from {t}'\n",
    "\n",
    "        c.execute(query)\n",
    "        data1 = c.fetchall()\n",
    "\n",
    "        temp.append(data1[i][2])\n",
    "    print(temp)\n",
    "    sensors.append(temp)\n",
    "    temp = []"
   ]
  },
  {
   "cell_type": "code",
   "execution_count": 45,
   "metadata": {},
   "outputs": [
    {
     "name": "stdout",
     "output_type": "stream",
     "text": [
      "[['32', '23', '1245'], ['35', '20', '1092'], ['117', '59', '1290']]\n"
     ]
    }
   ],
   "source": [
    "print(sensors)"
   ]
  },
  {
   "cell_type": "code",
   "execution_count": null,
   "metadata": {},
   "outputs": [],
   "source": []
  }
 ],
 "metadata": {
  "kernelspec": {
   "display_name": "venv",
   "language": "python",
   "name": "python3"
  },
  "language_info": {
   "codemirror_mode": {
    "name": "ipython",
    "version": 3
   },
   "file_extension": ".py",
   "mimetype": "text/x-python",
   "name": "python",
   "nbconvert_exporter": "python",
   "pygments_lexer": "ipython3",
   "version": "3.10.10"
  },
  "orig_nbformat": 4
 },
 "nbformat": 4,
 "nbformat_minor": 2
}
